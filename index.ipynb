{
 "cells": [
  {
   "cell_type": "code",
   "execution_count": 9,
   "id": "3509e152",
   "metadata": {},
   "outputs": [
    {
     "name": "stdout",
     "output_type": "stream",
     "text": [
      "✅ submission.json generated\n"
     ]
    }
   ],
   "source": [
    "import csv\n",
    "import json\n",
    "from datetime import datetime, timedelta, timezone\n",
    "\n",
    "# Read CSV dataset\n",
    "with open(\"data.csv\", \"r\") as f:\n",
    "    reader = csv.DictReader(f)\n",
    "    rows = list(reader)\n",
    "\n",
    "total = len(rows)\n",
    "delivered = 0\n",
    "rto = 0\n",
    "risk_orders = 0\n",
    "\n",
    "# Current IST time\n",
    "now = datetime.now(timezone(timedelta(hours=5, minutes=30)))\n",
    "seven_days_ago = now - timedelta(days=7)\n",
    "\n",
    "for row in rows:\n",
    "    status = row[\"current_status\"].strip().upper()\n",
    "    created_at = datetime.fromisoformat(row[\"created_at\"].replace(\"Z\", \"+05:30\"))\n",
    "\n",
    "    if status == \"DELIVERED\":\n",
    "        delivered += 1\n",
    "    elif \"RTO\" in status:   # handles \"RTO_DELIVERED\" or \"RTO\"\n",
    "        rto += 1\n",
    "\n",
    "    # Order at risk → placed in last 7 days and not delivered\n",
    "    if created_at >= seven_days_ago and status != \"DELIVERED\":\n",
    "        risk_orders += 1\n",
    "\n",
    "# KPIs\n",
    "delivered_percent = round((delivered / total) * 100, 2) if total else 0\n",
    "rto_percent = round((rto / total) * 100, 2) if total else 0\n",
    "drr = round(delivered / rto, 3) if rto > 0 else 0\n",
    "\n",
    "# Build JSON\n",
    "submission = {\n",
    "    \"submitted_at_ist\": now.isoformat(),\n",
    "    \"kpi\": {\n",
    "        \"delivered_percent\": delivered_percent,\n",
    "        \"rto_percent\": rto_percent,\n",
    "        \"orders_at_risk\": risk_orders,\n",
    "        \"drr\": drr\n",
    "    },\n",
    "    \"rules_thresholds\": {\n",
    "        \"delivered_percent\": 85,\n",
    "        \"rto_percent\": 8,\n",
    "        \"orders_at_risk\": 20\n",
    "    },\n",
    "    \"rules_triggers\": []\n",
    "}\n",
    "\n",
    "with open(\"submission.json\", \"w\") as f:\n",
    "    json.dump(submission, f, indent=2)\n",
    "\n",
    "print(\"✅ submission.json generated\")\n"
   ]
  }
 ],
 "metadata": {
  "kernelspec": {
   "display_name": "Python 3",
   "language": "python",
   "name": "python3"
  },
  "language_info": {
   "codemirror_mode": {
    "name": "ipython",
    "version": 3
   },
   "file_extension": ".py",
   "mimetype": "text/x-python",
   "name": "python",
   "nbconvert_exporter": "python",
   "pygments_lexer": "ipython3",
   "version": "3.11.0"
  }
 },
 "nbformat": 4,
 "nbformat_minor": 5
}
